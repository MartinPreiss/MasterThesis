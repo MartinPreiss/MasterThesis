{
 "cells": [
  {
   "cell_type": "code",
   "execution_count": 1,
   "metadata": {},
   "outputs": [
    {
     "name": "stderr",
     "output_type": "stream",
     "text": [
      "/tmp/ipykernel_2698787/3228873010.py:21: UserWarning: \n",
      "The version_base parameter is not specified.\n",
      "Please specify a compatability version level, or None.\n",
      "Will assume defaults for version 1.1\n",
      "  initialize(config_path=config_path, job_name=\"notebook\")  # Set up Hydra for the notebook\n",
      "/home/martin.preiss/MasterThesis/thesis/data_handling.py:9: FutureWarning: You are using `torch.load` with `weights_only=False` (the current default value), which uses the default pickle module implicitly. It is possible to construct malicious pickle data which will execute arbitrary code during unpickling (See https://github.com/pytorch/pytorch/blob/main/SECURITY.md#untrusted-models for more details). In a future release, the default value for `weights_only` will be flipped to `True`. This limits the functions that could be executed during unpickling. Arbitrary objects will no longer be allowed to be loaded via this mode unless they are explicitly allowlisted by the user via `torch.serialization.add_safe_globals`. We recommend you start setting `weights_only=True` for any use case where you don't have full control of the loaded file. Please open an issue on GitHub for any issues related to this experimental feature.\n",
      "  dataset = torch.load(f\"./data/datasets/embeddings/embedding_{cfg.llm_model_name}_all.pth\")#,map_location=torch.device('cpu'))\n"
     ]
    }
   ],
   "source": [
    "import sys\n",
    "import os\n",
    "\n",
    "# Adjust this path to point to the directory containing `thesis`\n",
    "project_root = \"~\"\n",
    "sys.path.append(project_root)\n",
    "\n",
    "os.environ[\"CUDA_VISIBLE_DEVICES\"] = \"3\"\n",
    "\n",
    "import torch\n",
    "from thesis.data_handling import get_embedding_dataset\n",
    "from thesis.models.EigenScore import getEigenIndicator_v0\n",
    "from omegaconf import OmegaConf\n",
    "from hydra import initialize, compose\n",
    "\n",
    "\n",
    "# Initialize Hydra and load the config file\n",
    "config_path = \"./thesis/config\"  # Directory of your YAML config file\n",
    "config_name = \"config\"  # Name of your YAML file, without .yaml extension\n",
    "\n",
    "initialize(config_path=config_path, job_name=\"notebook\")  # Set up Hydra for the notebook\n",
    "cfg = compose(config_name=config_name)\n",
    "\n",
    "\n",
    "dataset = get_embedding_dataset(cfg)"
   ]
  },
  {
   "cell_type": "code",
   "execution_count": 2,
   "metadata": {},
   "outputs": [],
   "source": [
    "#data = torch.stack([dataset[i][0] for i in range(len(dataset))])\n",
    "labels =  torch.stack([dataset[i][1] for i in range(len(dataset))])"
   ]
  },
  {
   "cell_type": "code",
   "execution_count": 3,
   "metadata": {},
   "outputs": [],
   "source": [
    "eigenscores = []\n",
    "\n",
    "for data, label in dataset:\n",
    "    try:\n",
    "        eigenscores.append(getEigenIndicator_v0(data)[0])\n",
    "    except:\n",
    "        eigenscores.append(0)\n",
    "        continue"
   ]
  },
  {
   "cell_type": "code",
   "execution_count": 4,
   "metadata": {},
   "outputs": [],
   "source": [
    "import numpy as np \n",
    "\n",
    "eigenscores = np.stack(eigenscores)"
   ]
  },
  {
   "cell_type": "code",
   "execution_count": 5,
   "metadata": {},
   "outputs": [],
   "source": [
    "labels = labels.numpy().squeeze()\n"
   ]
  },
  {
   "cell_type": "code",
   "execution_count": 6,
   "metadata": {},
   "outputs": [],
   "source": [
    "hallucinated_scores = eigenscores[labels==1]\n",
    "non_hallucinated_scores = eigenscores[labels==0]"
   ]
  },
  {
   "cell_type": "code",
   "execution_count": 7,
   "metadata": {},
   "outputs": [
    {
     "name": "stdout",
     "output_type": "stream",
     "text": [
      "0.37868509176306864 0.3771485015809106\n"
     ]
    }
   ],
   "source": [
    "print(np.mean(hallucinated_scores),np.mean(non_hallucinated_scores))"
   ]
  },
  {
   "cell_type": "code",
   "execution_count": 8,
   "metadata": {},
   "outputs": [
    {
     "data": {
      "text/plain": [
       "(array([[  1.,  11.,  64., 177., 311., 206.,  55.,  12.,   2.,   2.],\n",
       "        [  2.,  38., 125., 324., 390., 222.,  49.,   8.,   2.,   1.]]),\n",
       " array([0.35743965, 0.36212766, 0.36681567, 0.37150368, 0.37619169,\n",
       "        0.38087971, 0.38556772, 0.39025573, 0.39494374, 0.39963175,\n",
       "        0.40431976]),\n",
       " <a list of 2 BarContainer objects>)"
      ]
     },
     "execution_count": 8,
     "metadata": {},
     "output_type": "execute_result"
    },
    {
     "data": {
      "image/png": "[encoded data removed]",
      "text/plain": [
       "<Figure size 640x480 with 1 Axes>"
      ]
     },
     "metadata": {},
     "output_type": "display_data"
    }
   ],
   "source": [
    "import matplotlib.pyplot as plt\n",
    "plt.hist([hallucinated_scores,non_hallucinated_scores])"
   ]
  }
 ],
 "metadata": {
  "kernelspec": {
   "display_name": "MasterThesis-uWeKjD6I",
   "language": "python",
   "name": "python3"
  },
  "language_info": {
   "codemirror_mode": {
    "name": "ipython",
    "version": 3
   },
   "file_extension": ".py",
   "mimetype": "text/x-python",
   "name": "python",
   "nbconvert_exporter": "python",
   "pygments_lexer": "ipython3",
   "version": "3.10.12"
  }
 },
 "nbformat": 4,
 "nbformat_minor": 2
}
