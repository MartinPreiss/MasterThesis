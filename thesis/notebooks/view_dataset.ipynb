{
 "cells": [
  {
   "cell_type": "code",
   "execution_count": 1,
   "metadata": {},
   "outputs": [
    {
     "name": "stderr",
     "output_type": "stream",
     "text": [
      "/tmp/ipykernel_3312402/2823291440.py:19: UserWarning: \n",
      "The version_base parameter is not specified.\n",
      "Please specify a compatability version level, or None.\n",
      "Will assume defaults for version 1.1\n",
      "  initialize(config_path=config_path, job_name=\"notebook\")  # Set up Hydra for the notebook\n",
      "/home/knowledgeconflict/home/martin/MasterThesis/thesis/data_handling.py:9: FutureWarning: You are using `torch.load` with `weights_only=False` (the current default value), which uses the default pickle module implicitly. It is possible to construct malicious pickle data which will execute arbitrary code during unpickling (See https://github.com/pytorch/pytorch/blob/main/SECURITY.md#untrusted-models for more details). In a future release, the default value for `weights_only` will be flipped to `True`. This limits the functions that could be executed during unpickling. Arbitrary objects will no longer be allowed to be loaded via this mode unless they are explicitly allowlisted by the user via `torch.serialization.add_safe_globals`. We recommend you start setting `weights_only=True` for any use case where you don't have full control of the loaded file. Please open an issue on GitHub for any issues related to this experimental feature.\n",
      "  dataset = torch.load(f\"/home/knowledgeconflict/home/martin/MasterThesis/data/datasets/embeddings/embedding_{cfg.llm_model_name}_all.pth\")#,map_location=torch.device('cpu'))\n",
      "100%|██████████| 2002/2002 [00:00<00:00, 2182.84it/s]\n"
     ]
    }
   ],
   "source": [
    "import sys\n",
    "import os\n",
    "\n",
    "# Adjust this path to point to the directory containing `thesis`\n",
    "project_root = \"/home/knowledgeconflict/home/martin/MasterThesis\"\n",
    "sys.path.append(project_root)\n",
    "\n",
    "os.environ[\"CUDA_VISIBLE_DEVICES\"] = \"3\"\n",
    "\n",
    "import torch\n",
    "from thesis.data_handling import get_embedding_dataset\n",
    "from omegaconf import OmegaConf\n",
    "from hydra import initialize, compose\n",
    "\n",
    "# Initialize Hydra and load the config file\n",
    "config_path = \"../config\"  # Directory of your YAML config file\n",
    "config_name = \"config\"  # Name of your YAML file, without .yaml extension\n",
    "\n",
    "initialize(config_path=config_path, job_name=\"notebook\")  # Set up Hydra for the notebook\n",
    "cfg = compose(config_name=config_name)\n",
    "\n",
    "\n",
    "dataset = get_embedding_dataset(cfg)"
   ]
  },
  {
   "cell_type": "code",
   "execution_count": 2,
   "metadata": {},
   "outputs": [],
   "source": [
    "data = torch.stack([dataset[i][0] for i in range(len(dataset))])\n",
    "labels =  torch.stack([dataset[i][1] for i in range(len(dataset))])"
   ]
  },
  {
   "cell_type": "code",
   "execution_count": 3,
   "metadata": {},
   "outputs": [
    {
     "name": "stdout",
     "output_type": "stream",
     "text": [
      "torch.Size([2002, 42]) torch.Size([2002, 1])\n"
     ]
    }
   ],
   "source": [
    "print(data.shape,labels.shape)"
   ]
  },
  {
   "cell_type": "code",
   "execution_count": 4,
   "metadata": {},
   "outputs": [],
   "source": [
    "hallucinated_idx = labels == 1\n",
    "hallucinated_idx = hallucinated_idx.flatten()\n",
    "non_hallucinated_idx = labels == 0\n",
    "non_hallucinated_idx = non_hallucinated_idx.flatten()"
   ]
  },
  {
   "cell_type": "code",
   "execution_count": 5,
   "metadata": {},
   "outputs": [],
   "source": [
    "hallucinated_evs = data[hallucinated_idx,:]\n",
    "non_hallucinated_evs = data[non_hallucinated_idx,:]"
   ]
  },
  {
   "cell_type": "code",
   "execution_count": 6,
   "metadata": {},
   "outputs": [],
   "source": [
    "hallucinated_evs = torch.mean(hallucinated_evs,dim=0)\n",
    "non_hallucinated_evs = torch.mean(non_hallucinated_evs,dim=0)"
   ]
  },
  {
   "cell_type": "code",
   "execution_count": 7,
   "metadata": {},
   "outputs": [
    {
     "name": "stdout",
     "output_type": "stream",
     "text": [
      "tensor([4.7339e+04+0.j, 9.2402e+03+0.j, 2.6214e+03+0.j, 1.2605e+03+0.j, 8.5044e+02+0.j,\n",
      "        5.1800e+02+0.j, 3.7416e+02+0.j, 3.1524e+02+0.j, 2.6478e+02+0.j, 2.2369e+02+0.j,\n",
      "        1.8979e+02+0.j, 1.5878e+02+0.j, 1.3859e+02+0.j, 1.2340e+02+0.j, 1.1135e+02+0.j,\n",
      "        1.0716e+02+0.j, 9.3693e+01+0.j, 8.5647e+01+0.j, 7.8636e+01+0.j, 7.0201e+01+0.j,\n",
      "        6.4756e+01+0.j, 5.9846e+01+0.j, 5.2926e+01+0.j, 5.0382e+01+0.j, 4.7524e+01+0.j,\n",
      "        4.5876e+01+0.j, 3.7661e+01+0.j, 3.3897e+01+0.j, 2.8386e+01+0.j, 2.0724e+01+0.j,\n",
      "        1.9507e+01+0.j, 1.2349e+01+0.j, 1.1071e+01+0.j, 1.0327e+01+0.j, 8.7858e+00+0.j,\n",
      "        9.9275e+00+0.j, 1.0530e+01+0.j, 1.0306e+01+0.j, 1.2308e+01+0.j, 1.2863e+01+0.j,\n",
      "        1.3268e+01+0.j, 1.2795e+01+0.j]) tensor([4.7204e+04+0.j, 9.2230e+03+0.j, 2.6009e+03+0.j, 1.2530e+03+0.j, 8.5578e+02+0.j,\n",
      "        5.3923e+02+0.j, 3.8839e+02+0.j, 3.1878e+02+0.j, 2.6724e+02+0.j, 2.2453e+02+0.j,\n",
      "        1.9038e+02+0.j, 1.5812e+02+0.j, 1.3770e+02+0.j, 1.2225e+02+0.j, 1.1025e+02+0.j,\n",
      "        1.0606e+02+0.j, 9.3257e+01+0.j, 8.4786e+01+0.j, 7.7585e+01+0.j, 6.9557e+01+0.j,\n",
      "        6.3487e+01+0.j, 5.9299e+01+0.j, 5.2628e+01+0.j, 4.9892e+01+0.j, 4.7180e+01+0.j,\n",
      "        4.5291e+01+0.j, 3.7674e+01+0.j, 3.3849e+01+0.j, 2.8478e+01+0.j, 2.0396e+01+0.j,\n",
      "        1.8944e+01+0.j, 1.1840e+01+0.j, 1.1126e+01+0.j, 1.0009e+01+0.j, 9.1525e+00+0.j,\n",
      "        1.0145e+01+0.j, 1.0888e+01+0.j, 1.0438e+01+0.j, 1.2117e+01+0.j, 1.2994e+01+0.j,\n",
      "        1.3235e+01+0.j, 1.2841e+01+0.j])\n"
     ]
    }
   ],
   "source": [
    "print(hallucinated_evs,non_hallucinated_evs)"
   ]
  },
  {
   "cell_type": "code",
   "execution_count": null,
   "metadata": {},
   "outputs": [
    {
     "name": "stderr",
     "output_type": "stream",
     "text": [
      "/home/knowledgeconflict/.local/share/virtualenvs/MasterThesis-5ARcKmzf/lib/python3.10/site-packages/matplotlib/cbook.py:1762: ComplexWarning: Casting complex values to real discards the imaginary part\n",
      "  return math.isfinite(val)\n",
      "/home/knowledgeconflict/.local/share/virtualenvs/MasterThesis-5ARcKmzf/lib/python3.10/site-packages/matplotlib/cbook.py:1398: ComplexWarning: Casting complex values to real discards the imaginary part\n",
      "  return np.asarray(x, float)\n"
     ]
    },
    {
     "data": {
      "text/plain": [
       "[<matplotlib.lines.Line2D at 0x7f291fd207f0>]"
      ]
     },
     "execution_count": 8,
     "metadata": {},
     "output_type": "execute_result"
    },
    {
     "data": {
      "image/png": "[encoded data removed]",
      "text/plain": [
       "<Figure size 640x480 with 1 Axes>"
      ]
     },
     "metadata": {},
     "output_type": "display_data"
    },
    {
     "ename": "",
     "evalue": "",
     "output_type": "error",
     "traceback": [
      "\u001b[1;31mThe Kernel crashed while executing code in the current cell or a previous cell. \n",
      "\u001b[1;31mPlease review the code in the cell(s) to identify a possible cause of the failure. \n",
      "\u001b[1;31mClick <a href='https://aka.ms/vscodeJupyterKernelCrash'>here</a> for more info. \n",
      "\u001b[1;31mView Jupyter <a href='command:jupyter.viewOutput'>log</a> for further details."
     ]
    }
   ],
   "source": [
    "import matplotlib.pyplot as plt\n",
    "\n",
    "plt.plot(hallucinated_evs.cpu())\n",
    "plt.plot(non_hallucinated_evs.cpu())"
   ]
  }
 ],
 "metadata": {
  "kernelspec": {
   "display_name": "MasterThesis-5ARcKmzf",
   "language": "python",
   "name": "python3"
  },
  "language_info": {
   "codemirror_mode": {
    "name": "ipython",
    "version": 3
   },
   "file_extension": ".py",
   "mimetype": "text/x-python",
   "name": "python",
   "nbconvert_exporter": "python",
   "pygments_lexer": "ipython3",
   "version": "3.10.12"
  }
 },
 "nbformat": 4,
 "nbformat_minor": 2
}
