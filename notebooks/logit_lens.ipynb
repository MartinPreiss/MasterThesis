{
 "cells": [
  {
   "cell_type": "code",
   "execution_count": null,
   "metadata": {},
   "outputs": [],
   "source": [
    "import pandas as pd\n",
    "import torch\n",
    "import numpy as np\n",
    "import matplotlib.pyplot as plt\n",
    "\n",
    "import pickle\n",
    "\n",
    "def load_pickle(filename,path):\n",
    "    with open(path+filename + \".pkl\", \"rb\") as file:\n",
    "        my_list = pickle.load(file)\n",
    "    return my_list\n",
    "        \n",
    "\n",
    "original_dir  = \"/home/knowledgeconflict/home/martin/MasterThesis/data/logit_lens/original/\"\n",
    "transformed_dir = \"/home/knowledgeconflict/home/martin/MasterThesis/data/logit_lens/fake/\"\n",
    "\n",
    "#load original lists \n",
    "\n",
    "original_final_answers = load_pickle(filename=\"original_answers\",path=original_dir)\n",
    "original_labeled_true_scores = torch.load(original_dir+\"labeled_true_scores\"+\".pt\", map_location=torch.device('cpu'))\n",
    "original_labeled_false_scores = torch.load(original_dir+\"labeled_false_scores\"+\".pt\", map_location=torch.device('cpu'))\n",
    "original_topk_tokens = load_pickle(filename=\"topk_tokens\",path=original_dir)\n",
    "original_topk_scores = torch.load(original_dir+\"topk_scores\"+\".pt\", map_location=torch.device('cpu'))\n",
    "\n",
    "#load fake lists \n",
    "\n",
    "transformed_final_answers = load_pickle(filename=\"original_answers\",path=transformed_dir)\n",
    "transformed_labeled_true_scores = torch.load(original_dir+\"labeled_true_scores\"+\".pt\", map_location=torch.device('cpu'))\n",
    "transformed_labeled_false_scores = torch.load(original_dir+\"labeled_false_scores\"+\".pt\", map_location=torch.device('cpu'))\n",
    "transformed_topk_tokens = load_pickle(filename=\"topk_tokens\",path=transformed_dir)\n",
    "transformed_topk_scores = torch.load(original_dir+\"topk_scores\"+\".pt\", map_location=torch.device('cpu'))"
   ]
  },
  {
   "cell_type": "code",
   "execution_count": null,
   "metadata": {},
   "outputs": [],
   "source": [
    "print(original_final_answers)\n",
    "print(transformed_final_answers)"
   ]
  },
  {
   "cell_type": "code",
   "execution_count": null,
   "metadata": {},
   "outputs": [],
   "source": [
    "#print layer token development\n",
    "print(\"For one sample only\")\n",
    "for o_topk,t_topk in zip (original_topk_tokens[:1],transformed_topk_tokens[:1]):\n",
    "        print(o_topk)\n",
    "        print(t_topk)\n",
    "        \n",
    "for o_topk,t_topk in zip (original_topk_scores[:1],transformed_topk_scores[:1]):\n",
    "        print(o_topk[:,:,:1].tolist())\n",
    "        print(t_topk[:,:,:1].tolist())"
   ]
  },
  {
   "cell_type": "code",
   "execution_count": null,
   "metadata": {},
   "outputs": [],
   "source": [
    "#true vs false development \n",
    "print(\"For one sample only\")\n",
    "print(\"TRUE\")\n",
    "for o_topk,t_topk in zip (original_labeled_true_scores[:1],transformed_labeled_true_scores[:1]):\n",
    "        print(o_topk.tolist())\n",
    "        print(t_topk.tolist())\n",
    "print(\"FALSE\")\n",
    "for o_topk,t_topk in zip (original_labeled_false_scores[:1],transformed_labeled_false_scores[:1]):\n",
    "        print(o_topk.tolist())\n",
    "        print(t_topk.tolist())"
   ]
  },
  {
   "cell_type": "code",
   "execution_count": null,
   "metadata": {},
   "outputs": [],
   "source": [
    "original_dif = original_labeled_true_scores-original_labeled_false_scores\n",
    "print(original_dif[0].tolist())\n",
    "\n",
    "transformed_dif = transformed_labeled_true_scores-transformed_labeled_false_scores\n",
    "print(transformed_dif[0].tolist())"
   ]
  },
  {
   "cell_type": "code",
   "execution_count": 31,
   "metadata": {},
   "outputs": [],
   "source": [
    "layer_avg_original_dif = torch.mean(original_dif,dim=0)\n",
    "layer_avg_transformed_dif = torch.mean(transformed_dif,dim=0)"
   ]
  },
  {
   "cell_type": "code",
   "execution_count": 35,
   "metadata": {},
   "outputs": [],
   "source": [
    "def plot_tensor(tensor, title=\"Tensor Plot\"):\n",
    "    # Check if tensor is from PyTorch or TensorFlow and convert it to NumPy array\n",
    "    data = tensor.detach().numpy()  # For PyTorch\n",
    "\n",
    "    # Plot the data\n",
    "    plt.plot(data)\n",
    "    plt.title(title)\n",
    "    plt.xlabel(\"Index\")\n",
    "    plt.ylabel(\"Value\")\n",
    "    plt.grid(True)\n",
    "    plt.show()"
   ]
  },
  {
   "cell_type": "code",
   "execution_count": null,
   "metadata": {},
   "outputs": [],
   "source": [
    "plot_tensor(layer_avg_original_dif,\"original\")\n",
    "plot_tensor(layer_avg_transformed_dif,\"transformed\")"
   ]
  }
 ],
 "metadata": {
  "kernelspec": {
   "display_name": "MasterThesis-5ARcKmzf",
   "language": "python",
   "name": "python3"
  },
  "language_info": {
   "codemirror_mode": {
    "name": "ipython",
    "version": 3
   },
   "file_extension": ".py",
   "mimetype": "text/x-python",
   "name": "python",
   "nbconvert_exporter": "python",
   "pygments_lexer": "ipython3",
   "version": "3.10.12"
  }
 },
 "nbformat": 4,
 "nbformat_minor": 2
}
